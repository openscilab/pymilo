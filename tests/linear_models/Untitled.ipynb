{
 "cells": [
  {
   "cell_type": "code",
   "execution_count": 54,
   "metadata": {},
   "outputs": [
    {
     "name": "stdout",
     "output_type": "stream",
     "text": [
      "75\n"
     ]
    }
   ],
   "source": [
    "from  sklearn.linear_model import LogisticRegressionCV\n",
    "from sklearn.metrics import mean_squared_error, r2_score\n",
    "from sklearn import datasets\n",
    "\n",
    "def split_x_y(x,y,threshold = 20):\n",
    "    # Split the data into training/testing sets\n",
    "    x_train, x_test = x[:-1 * threshold], x[-1 * threshold:]\n",
    "    # Split the targets into training/testing sets\n",
    "    y_train, y_test = y[:-1 * threshold] , y[-1 * threshold:]\n",
    "    return x_train, y_train, x_test, y_test\n",
    "\n",
    "def prepare_simple_classification_datasets(threshold = 50):\n",
    "    cancer_X, cancer_y = datasets.load_breast_cancer(return_X_y=True)\n",
    "    return split_x_y(cancer_X,cancer_y, threshold)\n",
    "\n",
    "def prepare_simple_regression_datasets(threshold = 20):\n",
    "    diabetes_X, diabetes_y = datasets.load_diabetes(return_X_y=True)\n",
    "    return split_x_y(diabetes_X,diabetes_y, threshold)\n",
    "\n",
    "def prepare_logistic_regression_datasets(threshold = None):\n",
    "    iris_X, iris_y = datasets.load_iris(return_X_y=True)\n",
    "    threshold = threshold if(threshold) else len(iris_y) // 2\n",
    "    print(threshold)\n",
    "    return split_x_y(iris_X, iris_y, threshold)\n",
    "\n",
    "\n",
    "\n",
    "\n",
    "MODEL_NAME = \"Logistic-Regression-CV\"\n",
    "\n",
    "x_train, y_train, x_test, y_test = prepare_logistic_regression_datasets()\n",
    "# Create linear regression object\n",
    "logistic_regression_cv = 5\n",
    "logistic_regression_random_state = 0\n",
    "logistic_regression_cv_model = LogisticRegressionCV(cv= logistic_regression_cv, random_state= logistic_regression_random_state)\n",
    "\n",
    "# Train the model using the training sets\n",
    "logistic_regression_cv_model.fit(x_train, y_train)\n",
    "\n",
    "# Make predictions using the testing set\n",
    "exported_model_y_pred = logistic_regression_cv_model.predict(x_test)\n",
    "\n",
    "exported_model_prediction_outputs = {\n",
    "    \"mean-error\": mean_squared_error(y_test, exported_model_y_pred),\n",
    "    \"r2-score\": r2_score(y_test, exported_model_y_pred)\n",
    "}\n"
   ]
  },
  {
   "cell_type": "code",
   "execution_count": 92,
   "metadata": {},
   "outputs": [
    {
     "name": "stdout",
     "output_type": "stream",
     "text": [
      "False\n"
     ]
    }
   ],
   "source": [
    "a = list(logistic_regression_cv_model.__dict__[\"scores_\"].keys())[0]\n",
    "\n",
    "aa = int(1)\n",
    "\n",
    "b = {\n",
    "    a: \"amir\",\n",
    "    aa: \"Amirr\"\n",
    "}\n",
    "print(type(a) == type(aa))"
   ]
  },
  {
   "cell_type": "code",
   "execution_count": 94,
   "metadata": {},
   "outputs": [
    {
     "data": {
      "text/plain": [
       "'Amirr'"
      ]
     },
     "execution_count": 94,
     "metadata": {},
     "output_type": "execute_result"
    }
   ],
   "source": [
    "b[aa]"
   ]
  },
  {
   "cell_type": "code",
   "execution_count": null,
   "metadata": {},
   "outputs": [],
   "source": []
  },
  {
   "cell_type": "code",
   "execution_count": null,
   "metadata": {},
   "outputs": [],
   "source": []
  }
 ],
 "metadata": {
  "kernelspec": {
   "display_name": "Python 3",
   "language": "python",
   "name": "python3"
  },
  "language_info": {
   "codemirror_mode": {
    "name": "ipython",
    "version": 3
   },
   "file_extension": ".py",
   "mimetype": "text/x-python",
   "name": "python",
   "nbconvert_exporter": "python",
   "pygments_lexer": "ipython3",
   "version": "3.7.4"
  }
 },
 "nbformat": 4,
 "nbformat_minor": 2
}
